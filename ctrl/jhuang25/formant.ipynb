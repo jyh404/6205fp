{
 "cells": [
  {
   "cell_type": "code",
   "execution_count": 1,
   "metadata": {},
   "outputs": [],
   "source": [
    "## https://ieeexplore.ieee.org/stamp/stamp.jsp?tp=&arnumber=650308\n",
    "\n",
    "from scipy.io import wavfile\n",
    "from scipy.fft import fft, fftfreq, ifft\n",
    "import numpy as np\n",
    "import matplotlib.pyplot as plt"
   ]
  },
  {
   "cell_type": "code",
   "execution_count": 2,
   "metadata": {},
   "outputs": [],
   "source": [
    "rate, data = wavfile.read(\"audio/vowel.wav\")\n",
    "data = np.array(data, dtype = np.int32) # otherwise it defaults to uint8..."
   ]
  },
  {
   "cell_type": "code",
   "execution_count": 3,
   "metadata": {},
   "outputs": [],
   "source": [
    "# signal pre-emphasis = only look at first order differences\n",
    "\n",
    "diffs = np.array([(data[i+1] - data[i] * 0.97) for i in range(len(data)-1)])"
   ]
  },
  {
   "cell_type": "code",
   "execution_count": 4,
   "metadata": {},
   "outputs": [],
   "source": [
    "## find windows of size 25 ms every 10 ms\n",
    "window_len = 0.025 # s\n",
    "window_interval = 0.010 # s\n",
    "window_len_samples = int(window_len * rate)\n",
    "window_interval_samples = int(window_interval * rate)\n",
    "N = len(data)\n",
    "windows = []\n",
    "for i in range(0, N, window_interval_samples):\n",
    "    if i + window_len * rate < N: # the window starting at sample i fits\n",
    "        windows.append(np.array(diffs[i:i+window_len_samples]))"
   ]
  },
  {
   "cell_type": "code",
   "execution_count": 5,
   "metadata": {},
   "outputs": [],
   "source": [
    "## focus on 35th window, which is deep enough into the recording to be a vowel\n",
    "## 0-pad to 512, multiply by hamming window, then find fft. graph it so we can estimate what formants should look like\n",
    "\n",
    "FFT_SIZE = 512\n",
    "w = windows[0]\n",
    "\n",
    "w = np.concatenate((w, np.zeros(FFT_SIZE - len(w))))\n",
    "w *= np.hamming(FFT_SIZE)\n",
    "\n",
    "s = fft(data)\n",
    "\n",
    "freq_fft = fftfreq(FFT_SIZE, 1/rate)[:FFT_SIZE//2]\n",
    "plt.plot(freq_fft, np.log(abs(s[:FFT_SIZE//2])))\n",
    "plt.savefig(f\"formant/vowel_fft_hamming.png\")\n",
    "plt.close()"
   ]
  }
 ],
 "metadata": {
  "kernelspec": {
   "display_name": "base",
   "language": "python",
   "name": "python3"
  },
  "language_info": {
   "codemirror_mode": {
    "name": "ipython",
    "version": 3
   },
   "file_extension": ".py",
   "mimetype": "text/x-python",
   "name": "python",
   "nbconvert_exporter": "python",
   "pygments_lexer": "ipython3",
   "version": "3.11.5"
  }
 },
 "nbformat": 4,
 "nbformat_minor": 2
}
